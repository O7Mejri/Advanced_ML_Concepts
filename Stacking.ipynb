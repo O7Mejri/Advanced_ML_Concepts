{
  "nbformat": 4,
  "nbformat_minor": 0,
  "metadata": {
    "colab": {
      "provenance": [],
      "authorship_tag": "ABX9TyOhRBEJMXZbaVJONcIl7Pah",
      "include_colab_link": true
    },
    "kernelspec": {
      "name": "python3",
      "display_name": "Python 3"
    },
    "language_info": {
      "name": "python"
    }
  },
  "cells": [
    {
      "cell_type": "markdown",
      "metadata": {
        "id": "view-in-github",
        "colab_type": "text"
      },
      "source": [
        "<a href=\"https://colab.research.google.com/github/O7Mejri/Advanced_ML_Concepts/blob/main/Stacking.ipynb\" target=\"_parent\"><img src=\"https://colab.research.google.com/assets/colab-badge.svg\" alt=\"Open In Colab\"/></a>"
      ]
    },
    {
      "cell_type": "markdown",
      "source": [
        "## Stacking"
      ],
      "metadata": {
        "id": "1o3MnONKNhlN"
      }
    },
    {
      "cell_type": "code",
      "execution_count": null,
      "metadata": {
        "colab": {
          "base_uri": "https://localhost:8080/"
        },
        "id": "5DEKGDzbNffa",
        "outputId": "30259d72-d031-461f-e003-f21bb44d5bbc"
      },
      "outputs": [
        {
          "output_type": "stream",
          "name": "stdout",
          "text": [
            "shape:  (1000, 10) (1000,)\n",
            "RMSE for RandomForestRegressor: 58.38148624586215\n",
            "RMSE for LinearRegression: 1.3826607542204874e-13\n",
            "RMSE for Stacking Regressor: 1.5199844770546964e-13\n",
            "COMPARISON\n",
            "Average RMSE of Base Models: 29.190743122931142\n",
            "RMSE for Stacking Regressor: 1.5199844770546964e-13\n",
            "Percentage Reduction in RMSE: 0.9999999999999948%\n"
          ]
        }
      ],
      "source": [
        "from mlxtend.regressor import StackingCVRegressor\n",
        "from sklearn.ensemble import RandomForestRegressor\n",
        "from sklearn.linear_model import LinearRegression\n",
        "from sklearn.model_selection import train_test_split\n",
        "from sklearn.datasets import make_regression\n",
        "\n",
        "import matplotlib.pyplot as plt\n",
        "import numpy as np\n",
        "\n",
        "\n",
        "from sklearn.metrics import mean_squared_error\n",
        "\n",
        "# Define a function to calculate RMSE\n",
        "def rmse(y_true, y_pred):\n",
        "    return np.sqrt(mean_squared_error(y_true, y_pred))\n",
        "\n",
        "\n",
        "# Create a toy dataset\n",
        "X, y = make_regression(n_samples=1000, n_features=10, random_state=42)\n",
        "print(\"shape: \", X.shape,y.shape)\n",
        "\n",
        "# Split the dataset into training and testing sets\n",
        "X_train, X_test, y_train, y_test = train_test_split(X, y, test_size=0.2, random_state=42)\n",
        "\n",
        "# Define base models\n",
        "base_models = [RandomForestRegressor(n_estimators=50, random_state=42),\n",
        "               LinearRegression()]\n",
        "\n",
        "# Define meta-model\n",
        "meta_model = LinearRegression()\n",
        "\n",
        "# Create the stacking regressor\n",
        "stacking_regressor = StackingCVRegressor(regressors=base_models,\n",
        "                                         meta_regressor=meta_model,\n",
        "                                         random_state=42)\n",
        "\n",
        "# Train the base guys first to see\n",
        "rmse_bases = []\n",
        "for base_model in base_models:\n",
        "    base_model.fit(X_train, y_train)\n",
        "    base_predictions = base_model.predict(X_test)\n",
        "    rmse_base = rmse(y_test, base_predictions)\n",
        "    rmse_bases.append(rmse_base)\n",
        "    print(f'RMSE for {base_model.__class__.__name__}: {rmse_base}')\n",
        "\n",
        "# Train the stacking regressor and see\n",
        "stacking_regressor.fit(X_train, y_train)\n",
        "stacking_predictions = stacking_regressor.predict(X_test)\n",
        "rmse_stacking = rmse(y_test, stacking_predictions)\n",
        "print(f'RMSE for Stacking Regressor: {rmse_stacking}')\n",
        "\n",
        "# Comparison\n",
        "avg_rmse_base = np.mean(rmse_bases)\n",
        "comp = ((avg_rmse_base - rmse_stacking)/avg_rmse_base)\n",
        "print(\"COMPARISON\")\n",
        "print(f'Average RMSE of Base Models: {avg_rmse_base}')\n",
        "print(f'RMSE for Stacking Regressor: {rmse_stacking}')\n",
        "print(f'Percentage Reduction in RMSE: {comp}%')"
      ]
    },
    {
      "cell_type": "code",
      "source": [
        "!echo \"# DS-ML_concepts\" >> README.md\n",
        "!git init\n",
        "!git add README.md\n",
        "!git commit -m \"first commit\"\n",
        "!git branch -M main\n",
        "!git remote add origin https://github.com/O7Mejri/DS-ML_concepts.git\n",
        "!git push -u origin main"
      ],
      "metadata": {
        "colab": {
          "base_uri": "https://localhost:8080/"
        },
        "id": "ZtTXQ4clSVNH",
        "outputId": "43b9e6e6-b5dc-45cf-ebff-87458070a2c1"
      },
      "execution_count": null,
      "outputs": [
        {
          "output_type": "stream",
          "name": "stdout",
          "text": [
            "Reinitialized existing Git repository in /content/.git/\n",
            "Author identity unknown\n",
            "\n",
            "*** Please tell me who you are.\n",
            "\n",
            "Run\n",
            "\n",
            "  git config --global user.email \"you@example.com\"\n",
            "  git config --global user.name \"Your Name\"\n",
            "\n",
            "to set your account's default identity.\n",
            "Omit --global to set the identity only in this repository.\n",
            "\n",
            "fatal: unable to auto-detect email address (got 'root@ce8259b26712.(none)')\n",
            "error: remote origin already exists.\n",
            "error: src refspec main does not match any\n",
            "\u001b[31merror: failed to push some refs to 'https://github.com/O7Mejri/DS-ML_concepts.git'\n",
            "\u001b[m"
          ]
        }
      ]
    },
    {
      "cell_type": "code",
      "source": [
        "!git config --global user.email \"oussama.mejri@enis.tn\n",
        "!git config --global user.name \"O7Mejri\""
      ],
      "metadata": {
        "colab": {
          "base_uri": "https://localhost:8080/"
        },
        "id": "8WFP6DSfTcKk",
        "outputId": "8914c0b1-c57a-474f-9891-b6ad5c639520"
      },
      "execution_count": null,
      "outputs": [
        {
          "output_type": "stream",
          "name": "stdout",
          "text": [
            "/bin/bash: -c: line 1: unexpected EOF while looking for matching `\"'\n",
            "/bin/bash: -c: line 2: syntax error: unexpected end of file\n"
          ]
        }
      ]
    },
    {
      "cell_type": "code",
      "source": [],
      "metadata": {
        "id": "nfFJE-UITq5U"
      },
      "execution_count": null,
      "outputs": []
    }
  ]
}